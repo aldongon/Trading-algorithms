{
 "cells": [
  {
   "cell_type": "code",
   "execution_count": 3,
   "metadata": {},
   "outputs": [],
   "source": [
    "import requests\n",
    "import json\n",
    "import pandas as pd\n",
    "import datetime\n",
    "import time\n",
    "\n",
    "symbols = ['ALUA','MIRG','GGAL','BBAR','YPFD','BMA','PAMP','VALO','SUPV','BYMA',\n",
    "           'CRES', 'TXAR', 'CEPU', 'TGSU2', 'TRAN', 'TECO2', 'TGNO4', 'CVH', 'COME', 'EDN']\n",
    "\n",
    "for symbol in symbols:\n",
    "    url_idTitulo = 'https://www.invertironline.com/api/cotizaciones/idtitulo?simbolo='+symbol+'&mercado=BCBA'\n",
    "    idTitulo = requests.get(url = url_idTitulo, \n",
    "                            headers = {'simbolo':symbol,\n",
    "                                       'mercado':'BCBA'})\n",
    "    _id = str(idTitulo.text)\n",
    "    url = \"https://www.invertironline.com/Titulo/GraficoIntradiario?idTitulo=\"+_id+\"&idTipo=4&idMercado=1\"\n",
    "    dato = requests.get(url, headers = {'idTitulo': _id,\n",
    "                                        'idTipo': '4',\n",
    "                                        'idMercado': '1'})\n",
    "    tabla = json.loads(dato.text)\n",
    "    hora = []\n",
    "    precio = []\n",
    "    volumen = []\n",
    "    for data in tabla:\n",
    "        fechahora = data[\"FechaHora\"]\n",
    "        fh = datetime.datetime.utcfromtimestamp(fechahora).strftime('%d-%m-%Y %H:%M:%S')\n",
    "        hora.append(fh)\n",
    "        precio.append(data[\"Ultima\"])\n",
    "        volumen.append(data[\"CantidadNominal\"])\n",
    "    dataset = {\"Hora\":hora,\"Precio\":precio,\"Volumen\":volumen}\n",
    "    dataset = pd.DataFrame(dataset , columns=[\"Hora\",\"Precio\",\"Volumen\"])\n",
    "    dataset.to_csv(symbol + '.csv', index=False)\n",
    "    \n",
    "    "
   ]
  }
 ],
 "metadata": {
  "kernelspec": {
   "display_name": "Python 3",
   "language": "python",
   "name": "python3"
  },
  "language_info": {
   "codemirror_mode": {
    "name": "ipython",
    "version": 3
   },
   "file_extension": ".py",
   "mimetype": "text/x-python",
   "name": "python",
   "nbconvert_exporter": "python",
   "pygments_lexer": "ipython3",
   "version": "3.7.4"
  }
 },
 "nbformat": 4,
 "nbformat_minor": 4
}
